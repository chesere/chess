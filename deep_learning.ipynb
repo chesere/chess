{
  "nbformat": 4,
  "nbformat_minor": 0,
  "metadata": {
    "colab": {
      "provenance": [],
      "authorship_tag": "ABX9TyNMLajyNajL3bFDDkJkkpFj",
      "include_colab_link": true
    },
    "kernelspec": {
      "name": "python3",
      "display_name": "Python 3"
    },
    "language_info": {
      "name": "python"
    }
  },
  "cells": [
    {
      "cell_type": "markdown",
      "metadata": {
        "id": "view-in-github",
        "colab_type": "text"
      },
      "source": [
        "<a href=\"https://colab.research.google.com/github/chesere/chess/blob/master/deep_learning.ipynb\" target=\"_parent\"><img src=\"https://colab.research.google.com/assets/colab-badge.svg\" alt=\"Open In Colab\"/></a>"
      ]
    },
    {
      "cell_type": "markdown",
      "source": [
        "### **Importing tensors and keras**"
      ],
      "metadata": {
        "id": "FVbk_dA6LD90"
      }
    },
    {
      "cell_type": "code",
      "execution_count": 1,
      "metadata": {
        "id": "n9ZKMglyKy0b"
      },
      "outputs": [],
      "source": [
        "import tensorflow as tf\n",
        "from tensorflow.keras import layers, models\n",
        "from tensorflow.keras.datasets import fashion_mnist"
      ]
    },
    {
      "cell_type": "markdown",
      "source": [
        "### **loading the dataset**"
      ],
      "metadata": {
        "id": "6_vd0YjOLSQj"
      }
    },
    {
      "cell_type": "code",
      "source": [
        "(train_images, train_labels), (test_images, test_labels) = fashion_mnist.load_data()"
      ],
      "metadata": {
        "colab": {
          "base_uri": "https://localhost:8080/"
        },
        "id": "-gwZv331LbNT",
        "outputId": "a9d1838b-fc45-47f4-f601-5152f99a1761"
      },
      "execution_count": 2,
      "outputs": [
        {
          "output_type": "stream",
          "name": "stdout",
          "text": [
            "Downloading data from https://storage.googleapis.com/tensorflow/tf-keras-datasets/train-labels-idx1-ubyte.gz\n",
            "29515/29515 [==============================] - 0s 0us/step\n",
            "Downloading data from https://storage.googleapis.com/tensorflow/tf-keras-datasets/train-images-idx3-ubyte.gz\n",
            "26421880/26421880 [==============================] - 0s 0us/step\n",
            "Downloading data from https://storage.googleapis.com/tensorflow/tf-keras-datasets/t10k-labels-idx1-ubyte.gz\n",
            "5148/5148 [==============================] - 0s 0us/step\n",
            "Downloading data from https://storage.googleapis.com/tensorflow/tf-keras-datasets/t10k-images-idx3-ubyte.gz\n",
            "4422102/4422102 [==============================] - 0s 0us/step\n"
          ]
        }
      ]
    },
    {
      "cell_type": "markdown",
      "source": [
        "### **Preprocessing the model**"
      ],
      "metadata": {
        "id": "TEgDs5XSLfWm"
      }
    },
    {
      "cell_type": "code",
      "source": [
        "train_images = train_images.reshape((60000, 28, 28, 1)).astype('float32') / 255\n",
        "test_images = test_images.reshape((10000, 28, 28, 1)).astype('float32') / 255"
      ],
      "metadata": {
        "id": "lf3MzWBsLydA"
      },
      "execution_count": 3,
      "outputs": []
    },
    {
      "cell_type": "markdown",
      "source": [
        "### **Building the model**"
      ],
      "metadata": {
        "id": "-EDx2E40L2Jc"
      }
    },
    {
      "cell_type": "code",
      "source": [
        "model = models.Sequential()\n",
        "model.add(layers.Conv2D(32, (3, 3), activation='relu', input_shape=(28, 28, 1)))\n",
        "model.add(layers.MaxPooling2D((2, 2)))\n",
        "model.add(layers.Conv2D(64, (3, 3), activation='relu'))\n",
        "model.add(layers.MaxPooling2D((2, 2)))\n",
        "model.add(layers.Conv2D(64, (3, 3), activation='relu'))\n",
        "model.add(layers.Flatten())\n",
        "model.add(layers.Dense(64, activation='relu'))\n",
        "model.add(layers.Dense(10, activation='softmax'))"
      ],
      "metadata": {
        "id": "B8-FbypyL86N"
      },
      "execution_count": 4,
      "outputs": []
    },
    {
      "cell_type": "markdown",
      "source": [
        "### **Compiling the model**"
      ],
      "metadata": {
        "id": "wpVfJbFWMBg8"
      }
    },
    {
      "cell_type": "code",
      "source": [
        "model.compile(optimizer='adam',\n",
        "              loss='sparse_categorical_crossentropy',\n",
        "              metrics=['accuracy'])"
      ],
      "metadata": {
        "id": "GCV8yolSMAZy"
      },
      "execution_count": 5,
      "outputs": []
    },
    {
      "cell_type": "markdown",
      "source": [
        "### **Train the model**"
      ],
      "metadata": {
        "id": "P9KFmSACMKSL"
      }
    },
    {
      "cell_type": "code",
      "source": [
        "model.fit(train_images, train_labels, epochs=10, batch_size=64, validation_split=0.1)"
      ],
      "metadata": {
        "colab": {
          "base_uri": "https://localhost:8080/"
        },
        "id": "xNMXktkEMPjX",
        "outputId": "624d1b12-9d3f-4a6f-f587-19b15611644c"
      },
      "execution_count": 6,
      "outputs": [
        {
          "output_type": "stream",
          "name": "stdout",
          "text": [
            "Epoch 1/10\n",
            "844/844 [==============================] - 55s 63ms/step - loss: 0.5739 - accuracy: 0.7917 - val_loss: 0.4036 - val_accuracy: 0.8555\n",
            "Epoch 2/10\n",
            "844/844 [==============================] - 52s 62ms/step - loss: 0.3524 - accuracy: 0.8726 - val_loss: 0.3520 - val_accuracy: 0.8738\n",
            "Epoch 3/10\n",
            "844/844 [==============================] - 51s 60ms/step - loss: 0.2978 - accuracy: 0.8910 - val_loss: 0.3191 - val_accuracy: 0.8855\n",
            "Epoch 4/10\n",
            "844/844 [==============================] - 53s 63ms/step - loss: 0.2663 - accuracy: 0.9027 - val_loss: 0.2875 - val_accuracy: 0.8952\n",
            "Epoch 5/10\n",
            "844/844 [==============================] - 51s 60ms/step - loss: 0.2415 - accuracy: 0.9112 - val_loss: 0.2741 - val_accuracy: 0.8945\n",
            "Epoch 6/10\n",
            "844/844 [==============================] - 50s 60ms/step - loss: 0.2208 - accuracy: 0.9192 - val_loss: 0.2858 - val_accuracy: 0.8972\n",
            "Epoch 7/10\n",
            "844/844 [==============================] - 50s 59ms/step - loss: 0.2039 - accuracy: 0.9242 - val_loss: 0.2559 - val_accuracy: 0.9050\n",
            "Epoch 8/10\n",
            "844/844 [==============================] - 51s 60ms/step - loss: 0.1887 - accuracy: 0.9293 - val_loss: 0.2578 - val_accuracy: 0.9077\n",
            "Epoch 9/10\n",
            "844/844 [==============================] - 48s 57ms/step - loss: 0.1724 - accuracy: 0.9363 - val_loss: 0.2856 - val_accuracy: 0.8983\n",
            "Epoch 10/10\n",
            "844/844 [==============================] - 49s 58ms/step - loss: 0.1596 - accuracy: 0.9413 - val_loss: 0.2449 - val_accuracy: 0.9137\n"
          ]
        },
        {
          "output_type": "execute_result",
          "data": {
            "text/plain": [
              "<keras.src.callbacks.History at 0x7ef325d4feb0>"
            ]
          },
          "metadata": {},
          "execution_count": 6
        }
      ]
    },
    {
      "cell_type": "markdown",
      "source": [
        "### **Evaluating the model**"
      ],
      "metadata": {
        "id": "oKRXvY7JMTdx"
      }
    },
    {
      "cell_type": "code",
      "source": [
        "test_loss, test_acc = model.evaluate(test_images, test_labels)\n",
        "print('Test accuracy:', test_acc)"
      ],
      "metadata": {
        "colab": {
          "base_uri": "https://localhost:8080/"
        },
        "id": "hzn2sXJdMZNg",
        "outputId": "aef91859-ac74-4cbb-aa9b-3c38834de940"
      },
      "execution_count": 7,
      "outputs": [
        {
          "output_type": "stream",
          "name": "stdout",
          "text": [
            "313/313 [==============================] - 3s 9ms/step - loss: 0.2606 - accuracy: 0.9105\n",
            "Test accuracy: 0.9104999899864197\n"
          ]
        }
      ]
    }
  ]
}